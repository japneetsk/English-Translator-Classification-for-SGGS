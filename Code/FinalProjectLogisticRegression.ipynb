{
 "cells": [
  {
   "cell_type": "markdown",
   "metadata": {},
   "source": [
    "##### AIT 726 - Final Project Naive Bayes Code\n",
    "##### By Japneet Kohli\n",
    "\n",
    "####  The code is executed in the following order.\n",
    "\n",
    "1.   Load data.\n",
    "2.   Select only translation writer and line translations data from the list of attributes.\n",
    "3.   Assign labels of translation writer attribute binary numeric values (0,1).\n",
    "4.   Preprocess text using regex.\n",
    "5.   Split data into train, validation, and test.\n",
    "6.   Create pipeline with functions including Logistic Regression, Count Vectorizer, and TF-IDF Transformer, and assign range of hyerparameters to be tuned.\n",
    "7.   Perform 10 fold cross validation using GridSearchCV to find best values for hyperparameters. \n",
    "8.   Fit the model with the tuned parameters on training data.\n",
    "9.   Predict values for validation and test data and compute accuracy using classfication report and confusion matrix."
   ]
  },
  {
   "cell_type": "code",
   "execution_count": 31,
   "metadata": {},
   "outputs": [
    {
     "name": "stdout",
     "output_type": "stream",
     "text": [
      "Done\n"
     ]
    }
   ],
   "source": [
    "# import required packages\n",
    "import nltk\n",
    "import pandas as pd\n",
    "import numpy as np\n",
    "import os\n",
    "import odbc\n",
    "import re\n",
    "from nltk.tokenize import word_tokenize \n",
    "from nltk.stem.porter import PorterStemmer\n",
    "import itertools\n",
    "import string\n",
    "from sklearn.feature_extraction.text import CountVectorizer,TfidfVectorizer\n",
    "stemmer = PorterStemmer()\n",
    "import sklearn\n",
    "from sklearn.multiclass import OneVsRestClassifier\n",
    "from sklearn.linear_model import LogisticRegression\n",
    "from sklearn import metrics\n",
    "from sklearn.pipeline import Pipeline\n",
    "#from sklearn.naive_bayes import MultinomialNB\n",
    "from sklearn.feature_extraction.text import CountVectorizer, TfidfTransformer\n",
    "from sklearn.model_selection import train_test_split, GridSearchCV\n",
    "from sklearn.linear_model import LogisticRegressionCV\n",
    "from sklearn.metrics import classification_report\n",
    "print('Done')"
   ]
  },
  {
   "cell_type": "code",
   "execution_count": 3,
   "metadata": {},
   "outputs": [
    {
     "name": "stdout",
     "output_type": "stream",
     "text": [
      "Done\n"
     ]
    }
   ],
   "source": [
    "# load data\n",
    "directory = r'csv_output_files'\n",
    "dfpath = directory + \"\\\\\" + 'datadf.csv'\n",
    "data=pd.read_csv(dfpath)\n",
    "print('Done')"
   ]
  },
  {
   "cell_type": "code",
   "execution_count": 4,
   "metadata": {},
   "outputs": [
    {
     "data": {
      "text/html": [
       "<div>\n",
       "<style scoped>\n",
       "    .dataframe tbody tr th:only-of-type {\n",
       "        vertical-align: middle;\n",
       "    }\n",
       "\n",
       "    .dataframe tbody tr th {\n",
       "        vertical-align: top;\n",
       "    }\n",
       "\n",
       "    .dataframe thead th {\n",
       "        text-align: right;\n",
       "    }\n",
       "</style>\n",
       "<table border=\"1\" class=\"dataframe\">\n",
       "  <thead>\n",
       "    <tr style=\"text-align: right;\">\n",
       "      <th></th>\n",
       "      <th>Unnamed: 0</th>\n",
       "      <th>writer</th>\n",
       "      <th>lines_translations_english_writer</th>\n",
       "      <th>lines_translations_english</th>\n",
       "      <th>lines_type</th>\n",
       "    </tr>\n",
       "  </thead>\n",
       "  <tbody>\n",
       "    <tr>\n",
       "      <td>0</td>\n",
       "      <td>1</td>\n",
       "      <td>Guru Nanak Dev Ji</td>\n",
       "      <td>Dr. Sant Singh Khalsa</td>\n",
       "      <td>One Universal Creator God. The Name Is Truth. ...</td>\n",
       "      <td>Manglacharan</td>\n",
       "    </tr>\n",
       "    <tr>\n",
       "      <td>1</td>\n",
       "      <td>2</td>\n",
       "      <td>Guru Nanak Dev Ji</td>\n",
       "      <td>Bhai Manmohan Singh</td>\n",
       "      <td>There is but one God. True is His Name, creati...</td>\n",
       "      <td>Manglacharan</td>\n",
       "    </tr>\n",
       "    <tr>\n",
       "      <td>2</td>\n",
       "      <td>5</td>\n",
       "      <td>Guru Nanak Dev Ji</td>\n",
       "      <td>Dr. Sant Singh Khalsa</td>\n",
       "      <td>Chant And Meditate:</td>\n",
       "      <td>Sirlekh</td>\n",
       "    </tr>\n",
       "    <tr>\n",
       "      <td>3</td>\n",
       "      <td>6</td>\n",
       "      <td>Guru Nanak Dev Ji</td>\n",
       "      <td>Bhai Manmohan Singh</td>\n",
       "      <td>Embrace His meditation.</td>\n",
       "      <td>Sirlekh</td>\n",
       "    </tr>\n",
       "    <tr>\n",
       "      <td>4</td>\n",
       "      <td>9</td>\n",
       "      <td>Guru Nanak Dev Ji</td>\n",
       "      <td>Dr. Sant Singh Khalsa</td>\n",
       "      <td>True In The Primal Beginning. True Throughout ...</td>\n",
       "      <td>Pankti</td>\n",
       "    </tr>\n",
       "  </tbody>\n",
       "</table>\n",
       "</div>"
      ],
      "text/plain": [
       "   Unnamed: 0             writer lines_translations_english_writer  \\\n",
       "0           1  Guru Nanak Dev Ji             Dr. Sant Singh Khalsa   \n",
       "1           2  Guru Nanak Dev Ji               Bhai Manmohan Singh   \n",
       "2           5  Guru Nanak Dev Ji             Dr. Sant Singh Khalsa   \n",
       "3           6  Guru Nanak Dev Ji               Bhai Manmohan Singh   \n",
       "4           9  Guru Nanak Dev Ji             Dr. Sant Singh Khalsa   \n",
       "\n",
       "                          lines_translations_english    lines_type  \n",
       "0  One Universal Creator God. The Name Is Truth. ...  Manglacharan  \n",
       "1  There is but one God. True is His Name, creati...  Manglacharan  \n",
       "2                                Chant And Meditate:       Sirlekh  \n",
       "3                            Embrace His meditation.       Sirlekh  \n",
       "4  True In The Primal Beginning. True Throughout ...        Pankti  "
      ]
     },
     "execution_count": 4,
     "metadata": {},
     "output_type": "execute_result"
    }
   ],
   "source": [
    "# display data\n",
    "data.head()"
   ]
  },
  {
   "cell_type": "code",
   "execution_count": 7,
   "metadata": {},
   "outputs": [],
   "source": [
    "# remove unnecessary columns from df\n",
    "columns_to_keep = ['writer','lines_translations_english_writer','lines_translations_english','lines_type']\n",
    "newdata=data[columns_to_keep]"
   ]
  },
  {
   "cell_type": "code",
   "execution_count": 8,
   "metadata": {},
   "outputs": [
    {
     "data": {
      "text/html": [
       "<div>\n",
       "<style scoped>\n",
       "    .dataframe tbody tr th:only-of-type {\n",
       "        vertical-align: middle;\n",
       "    }\n",
       "\n",
       "    .dataframe tbody tr th {\n",
       "        vertical-align: top;\n",
       "    }\n",
       "\n",
       "    .dataframe thead th {\n",
       "        text-align: right;\n",
       "    }\n",
       "</style>\n",
       "<table border=\"1\" class=\"dataframe\">\n",
       "  <thead>\n",
       "    <tr style=\"text-align: right;\">\n",
       "      <th></th>\n",
       "      <th>writer</th>\n",
       "      <th>lines_translations_english_writer</th>\n",
       "      <th>lines_translations_english</th>\n",
       "      <th>lines_type</th>\n",
       "    </tr>\n",
       "  </thead>\n",
       "  <tbody>\n",
       "    <tr>\n",
       "      <td>0</td>\n",
       "      <td>Guru Nanak Dev Ji</td>\n",
       "      <td>Dr. Sant Singh Khalsa</td>\n",
       "      <td>One Universal Creator God. The Name Is Truth. ...</td>\n",
       "      <td>Manglacharan</td>\n",
       "    </tr>\n",
       "    <tr>\n",
       "      <td>1</td>\n",
       "      <td>Guru Nanak Dev Ji</td>\n",
       "      <td>Bhai Manmohan Singh</td>\n",
       "      <td>There is but one God. True is His Name, creati...</td>\n",
       "      <td>Manglacharan</td>\n",
       "    </tr>\n",
       "    <tr>\n",
       "      <td>2</td>\n",
       "      <td>Guru Nanak Dev Ji</td>\n",
       "      <td>Dr. Sant Singh Khalsa</td>\n",
       "      <td>Chant And Meditate:</td>\n",
       "      <td>Sirlekh</td>\n",
       "    </tr>\n",
       "    <tr>\n",
       "      <td>3</td>\n",
       "      <td>Guru Nanak Dev Ji</td>\n",
       "      <td>Bhai Manmohan Singh</td>\n",
       "      <td>Embrace His meditation.</td>\n",
       "      <td>Sirlekh</td>\n",
       "    </tr>\n",
       "    <tr>\n",
       "      <td>4</td>\n",
       "      <td>Guru Nanak Dev Ji</td>\n",
       "      <td>Dr. Sant Singh Khalsa</td>\n",
       "      <td>True In The Primal Beginning. True Throughout ...</td>\n",
       "      <td>Pankti</td>\n",
       "    </tr>\n",
       "  </tbody>\n",
       "</table>\n",
       "</div>"
      ],
      "text/plain": [
       "              writer lines_translations_english_writer  \\\n",
       "0  Guru Nanak Dev Ji             Dr. Sant Singh Khalsa   \n",
       "1  Guru Nanak Dev Ji               Bhai Manmohan Singh   \n",
       "2  Guru Nanak Dev Ji             Dr. Sant Singh Khalsa   \n",
       "3  Guru Nanak Dev Ji               Bhai Manmohan Singh   \n",
       "4  Guru Nanak Dev Ji             Dr. Sant Singh Khalsa   \n",
       "\n",
       "                          lines_translations_english    lines_type  \n",
       "0  One Universal Creator God. The Name Is Truth. ...  Manglacharan  \n",
       "1  There is but one God. True is His Name, creati...  Manglacharan  \n",
       "2                                Chant And Meditate:       Sirlekh  \n",
       "3                            Embrace His meditation.       Sirlekh  \n",
       "4  True In The Primal Beginning. True Throughout ...        Pankti  "
      ]
     },
     "execution_count": 8,
     "metadata": {},
     "output_type": "execute_result"
    }
   ],
   "source": [
    "# display data\n",
    "newdata.head()"
   ]
  },
  {
   "cell_type": "code",
   "execution_count": 9,
   "metadata": {},
   "outputs": [
    {
     "data": {
      "text/html": [
       "<div>\n",
       "<style scoped>\n",
       "    .dataframe tbody tr th:only-of-type {\n",
       "        vertical-align: middle;\n",
       "    }\n",
       "\n",
       "    .dataframe tbody tr th {\n",
       "        vertical-align: top;\n",
       "    }\n",
       "\n",
       "    .dataframe thead th {\n",
       "        text-align: right;\n",
       "    }\n",
       "</style>\n",
       "<table border=\"1\" class=\"dataframe\">\n",
       "  <thead>\n",
       "    <tr style=\"text-align: right;\">\n",
       "      <th></th>\n",
       "      <th>writer</th>\n",
       "      <th>lines_translations_english_writer</th>\n",
       "      <th>lines_translations_english</th>\n",
       "      <th>lines_type</th>\n",
       "    </tr>\n",
       "  </thead>\n",
       "  <tbody>\n",
       "    <tr>\n",
       "      <td>count</td>\n",
       "      <td>121020</td>\n",
       "      <td>121020</td>\n",
       "      <td>121020</td>\n",
       "      <td>121020</td>\n",
       "    </tr>\n",
       "    <tr>\n",
       "      <td>unique</td>\n",
       "      <td>35</td>\n",
       "      <td>2</td>\n",
       "      <td>112029</td>\n",
       "      <td>4</td>\n",
       "    </tr>\n",
       "    <tr>\n",
       "      <td>top</td>\n",
       "      <td>Guru Arjan Dev Ji</td>\n",
       "      <td>Dr. Sant Singh Khalsa</td>\n",
       "      <td>One Universal Creator God. By The Grace Of The...</td>\n",
       "      <td>Pankti</td>\n",
       "    </tr>\n",
       "    <tr>\n",
       "      <td>freq</td>\n",
       "      <td>49746</td>\n",
       "      <td>60510</td>\n",
       "      <td>525</td>\n",
       "      <td>100400</td>\n",
       "    </tr>\n",
       "  </tbody>\n",
       "</table>\n",
       "</div>"
      ],
      "text/plain": [
       "                   writer lines_translations_english_writer  \\\n",
       "count              121020                            121020   \n",
       "unique                 35                                 2   \n",
       "top     Guru Arjan Dev Ji             Dr. Sant Singh Khalsa   \n",
       "freq                49746                             60510   \n",
       "\n",
       "                               lines_translations_english lines_type  \n",
       "count                                              121020     121020  \n",
       "unique                                             112029          4  \n",
       "top     One Universal Creator God. By The Grace Of The...     Pankti  \n",
       "freq                                                  525     100400  "
      ]
     },
     "execution_count": 9,
     "metadata": {},
     "output_type": "execute_result"
    }
   ],
   "source": [
    "# describe data\n",
    "newdata.describe()"
   ]
  },
  {
   "cell_type": "code",
   "execution_count": 10,
   "metadata": {},
   "outputs": [
    {
     "name": "stdout",
     "output_type": "stream",
     "text": [
      "<class 'pandas.core.frame.DataFrame'>\n",
      "RangeIndex: 121020 entries, 0 to 121019\n",
      "Data columns (total 4 columns):\n",
      "writer                               121020 non-null object\n",
      "lines_translations_english_writer    121020 non-null object\n",
      "lines_translations_english           121020 non-null object\n",
      "lines_type                           121020 non-null object\n",
      "dtypes: object(4)\n",
      "memory usage: 3.7+ MB\n"
     ]
    }
   ],
   "source": [
    "# display data info\n",
    "newdata.info()"
   ]
  },
  {
   "cell_type": "code",
   "execution_count": 12,
   "metadata": {},
   "outputs": [
    {
     "data": {
      "text/plain": [
       "(121020, 4)"
      ]
     },
     "execution_count": 12,
     "metadata": {},
     "output_type": "execute_result"
    }
   ],
   "source": [
    "# display data shape\n",
    "newdata.shape"
   ]
  },
  {
   "cell_type": "code",
   "execution_count": 13,
   "metadata": {},
   "outputs": [
    {
     "data": {
      "text/plain": [
       "Dr. Sant Singh Khalsa    60510\n",
       "Bhai Manmohan Singh      60510\n",
       "Name: lines_translations_english_writer, dtype: int64"
      ]
     },
     "execution_count": 13,
     "metadata": {},
     "output_type": "execute_result"
    }
   ],
   "source": [
    "# display data value counts for translator writer\n",
    "newdata.lines_translations_english_writer.value_counts()"
   ]
  },
  {
   "cell_type": "code",
   "execution_count": 14,
   "metadata": {},
   "outputs": [],
   "source": [
    "# keep only required columns in df\n",
    "translator_columns=['lines_translations_english_writer','lines_translations_english']\n",
    "translator_data=newdata[translator_columns]"
   ]
  },
  {
   "cell_type": "code",
   "execution_count": 15,
   "metadata": {},
   "outputs": [
    {
     "data": {
      "text/html": [
       "<div>\n",
       "<style scoped>\n",
       "    .dataframe tbody tr th:only-of-type {\n",
       "        vertical-align: middle;\n",
       "    }\n",
       "\n",
       "    .dataframe tbody tr th {\n",
       "        vertical-align: top;\n",
       "    }\n",
       "\n",
       "    .dataframe thead th {\n",
       "        text-align: right;\n",
       "    }\n",
       "</style>\n",
       "<table border=\"1\" class=\"dataframe\">\n",
       "  <thead>\n",
       "    <tr style=\"text-align: right;\">\n",
       "      <th></th>\n",
       "      <th>lines_translations_english_writer</th>\n",
       "      <th>lines_translations_english</th>\n",
       "    </tr>\n",
       "  </thead>\n",
       "  <tbody>\n",
       "    <tr>\n",
       "      <td>0</td>\n",
       "      <td>Dr. Sant Singh Khalsa</td>\n",
       "      <td>One Universal Creator God. The Name Is Truth. ...</td>\n",
       "    </tr>\n",
       "    <tr>\n",
       "      <td>1</td>\n",
       "      <td>Bhai Manmohan Singh</td>\n",
       "      <td>There is but one God. True is His Name, creati...</td>\n",
       "    </tr>\n",
       "    <tr>\n",
       "      <td>2</td>\n",
       "      <td>Dr. Sant Singh Khalsa</td>\n",
       "      <td>Chant And Meditate:</td>\n",
       "    </tr>\n",
       "    <tr>\n",
       "      <td>3</td>\n",
       "      <td>Bhai Manmohan Singh</td>\n",
       "      <td>Embrace His meditation.</td>\n",
       "    </tr>\n",
       "    <tr>\n",
       "      <td>4</td>\n",
       "      <td>Dr. Sant Singh Khalsa</td>\n",
       "      <td>True In The Primal Beginning. True Throughout ...</td>\n",
       "    </tr>\n",
       "  </tbody>\n",
       "</table>\n",
       "</div>"
      ],
      "text/plain": [
       "  lines_translations_english_writer  \\\n",
       "0             Dr. Sant Singh Khalsa   \n",
       "1               Bhai Manmohan Singh   \n",
       "2             Dr. Sant Singh Khalsa   \n",
       "3               Bhai Manmohan Singh   \n",
       "4             Dr. Sant Singh Khalsa   \n",
       "\n",
       "                          lines_translations_english  \n",
       "0  One Universal Creator God. The Name Is Truth. ...  \n",
       "1  There is but one God. True is His Name, creati...  \n",
       "2                                Chant And Meditate:  \n",
       "3                            Embrace His meditation.  \n",
       "4  True In The Primal Beginning. True Throughout ...  "
      ]
     },
     "execution_count": 15,
     "metadata": {},
     "output_type": "execute_result"
    }
   ],
   "source": [
    "# display data\n",
    "translator_data.head()"
   ]
  },
  {
   "cell_type": "code",
   "execution_count": 16,
   "metadata": {},
   "outputs": [
    {
     "data": {
      "text/plain": [
       "(121020, 2)"
      ]
     },
     "execution_count": 16,
     "metadata": {},
     "output_type": "execute_result"
    }
   ],
   "source": [
    "# display data shape\n",
    "translator_data.shape"
   ]
  },
  {
   "cell_type": "code",
   "execution_count": 17,
   "metadata": {},
   "outputs": [
    {
     "data": {
      "text/html": [
       "<div>\n",
       "<style scoped>\n",
       "    .dataframe tbody tr th:only-of-type {\n",
       "        vertical-align: middle;\n",
       "    }\n",
       "\n",
       "    .dataframe tbody tr th {\n",
       "        vertical-align: top;\n",
       "    }\n",
       "\n",
       "    .dataframe thead th {\n",
       "        text-align: right;\n",
       "    }\n",
       "</style>\n",
       "<table border=\"1\" class=\"dataframe\">\n",
       "  <thead>\n",
       "    <tr style=\"text-align: right;\">\n",
       "      <th></th>\n",
       "      <th>lines_translations_english_writer</th>\n",
       "      <th>lines_translations_english</th>\n",
       "    </tr>\n",
       "  </thead>\n",
       "  <tbody>\n",
       "    <tr>\n",
       "      <td>count</td>\n",
       "      <td>121020</td>\n",
       "      <td>121020</td>\n",
       "    </tr>\n",
       "    <tr>\n",
       "      <td>unique</td>\n",
       "      <td>2</td>\n",
       "      <td>112029</td>\n",
       "    </tr>\n",
       "    <tr>\n",
       "      <td>top</td>\n",
       "      <td>Dr. Sant Singh Khalsa</td>\n",
       "      <td>One Universal Creator God. By The Grace Of The...</td>\n",
       "    </tr>\n",
       "    <tr>\n",
       "      <td>freq</td>\n",
       "      <td>60510</td>\n",
       "      <td>525</td>\n",
       "    </tr>\n",
       "  </tbody>\n",
       "</table>\n",
       "</div>"
      ],
      "text/plain": [
       "       lines_translations_english_writer  \\\n",
       "count                             121020   \n",
       "unique                                 2   \n",
       "top                Dr. Sant Singh Khalsa   \n",
       "freq                               60510   \n",
       "\n",
       "                               lines_translations_english  \n",
       "count                                              121020  \n",
       "unique                                             112029  \n",
       "top     One Universal Creator God. By The Grace Of The...  \n",
       "freq                                                  525  "
      ]
     },
     "execution_count": 17,
     "metadata": {},
     "output_type": "execute_result"
    }
   ],
   "source": [
    "# describe data\n",
    "translator_data.describe()"
   ]
  },
  {
   "cell_type": "code",
   "execution_count": 18,
   "metadata": {},
   "outputs": [
    {
     "name": "stdout",
     "output_type": "stream",
     "text": [
      "<class 'pandas.core.frame.DataFrame'>\n",
      "RangeIndex: 121020 entries, 0 to 121019\n",
      "Data columns (total 2 columns):\n",
      "lines_translations_english_writer    121020 non-null object\n",
      "lines_translations_english           121020 non-null object\n",
      "dtypes: object(2)\n",
      "memory usage: 1.8+ MB\n"
     ]
    }
   ],
   "source": [
    "# display data info\n",
    "translator_data.info()"
   ]
  },
  {
   "cell_type": "code",
   "execution_count": 19,
   "metadata": {},
   "outputs": [
    {
     "data": {
      "text/plain": [
       "'Hundreds of thousands of clever tricks, but not even one of them will go along with you in the end.'"
      ]
     },
     "execution_count": 19,
     "metadata": {},
     "output_type": "execute_result"
    }
   ],
   "source": [
    "# display data for random translation text\n",
    "translator_data.lines_translations_english[14]"
   ]
  },
  {
   "cell_type": "code",
   "execution_count": 20,
   "metadata": {},
   "outputs": [
    {
     "data": {
      "text/plain": [
       "0         One Universal Creator God. The Name Is Truth. ...\n",
       "1         There is but one God. True is His Name, creati...\n",
       "2                                       Chant And Meditate:\n",
       "3                                   Embrace His meditation.\n",
       "4         True In The Primal Beginning. True Throughout ...\n",
       "                                ...                        \n",
       "121015    These are the names of the sons of Maygh Raag....\n",
       "121016    So all together, they sing the six Raagas and ...\n",
       "121017    So all together, they sing the six Raagas and ...\n",
       "121018    and all the forty-eight sons of the Raagas. ||...\n",
       "121019    and all the forty-eight sons of the Raagas. ||...\n",
       "Name: lines_translations_english, Length: 121020, dtype: object"
      ]
     },
     "execution_count": 20,
     "metadata": {},
     "output_type": "execute_result"
    }
   ],
   "source": [
    "# display data for all translation text\n",
    "translator_data[\"lines_translations_english\"]"
   ]
  },
  {
   "cell_type": "code",
   "execution_count": 21,
   "metadata": {},
   "outputs": [
    {
     "name": "stderr",
     "output_type": "stream",
     "text": [
      "C:\\Users\\Japneet\\Anaconda3\\lib\\site-packages\\pandas\\core\\generic.py:6786: SettingWithCopyWarning: \n",
      "A value is trying to be set on a copy of a slice from a DataFrame\n",
      "\n",
      "See the caveats in the documentation: http://pandas.pydata.org/pandas-docs/stable/user_guide/indexing.html#returning-a-view-versus-a-copy\n",
      "  self._update_inplace(new_data)\n"
     ]
    }
   ],
   "source": [
    "# assign binary labels for translator writers\n",
    "translator_data[\"lines_translations_english_writer\"].replace({\"Dr. Sant Singh Khalsa\": \"0\", \"Bhai Manmohan Singh\": \"1\"}, inplace=True)"
   ]
  },
  {
   "cell_type": "code",
   "execution_count": 22,
   "metadata": {},
   "outputs": [
    {
     "data": {
      "text/plain": [
       "array(['0', '1', '0', ..., '1', '0', '1'], dtype=object)"
      ]
     },
     "execution_count": 22,
     "metadata": {},
     "output_type": "execute_result"
    }
   ],
   "source": [
    "# display binary labels assigned \n",
    "translator_data.lines_translations_english_writer.values"
   ]
  },
  {
   "cell_type": "code",
   "execution_count": 23,
   "metadata": {},
   "outputs": [
    {
     "data": {
      "text/plain": [
       "0    60510\n",
       "1    60510\n",
       "Name: lines_translations_english_writer, dtype: int64"
      ]
     },
     "execution_count": 23,
     "metadata": {},
     "output_type": "execute_result"
    }
   ],
   "source": [
    "# display data value counts for binary labels\n",
    "translator_data.lines_translations_english_writer.value_counts()"
   ]
  },
  {
   "cell_type": "code",
   "execution_count": 24,
   "metadata": {},
   "outputs": [
    {
     "name": "stdout",
     "output_type": "stream",
     "text": [
      "Done\n"
     ]
    }
   ],
   "source": [
    "# function for data preprocessing\n",
    "# remove ounctuation, html tags, non ascii characters, etc.\n",
    "\n",
    "def preprocess_text(txt):\n",
    "        txt = re.sub(r'(?:<[^>]+>)', '', txt)#Html tags\n",
    "        txt = re.sub('[^\\x00-\\x7F]+', ' ', txt) ##remove non ascii charcters\n",
    "        txt = re.sub('#\\S+', '', txt)\n",
    "        txt = re.sub('_', '', txt)\n",
    "        txt = re.sub('-',' ',txt)\n",
    "        txt = re.sub('/','',txt)\n",
    "        txt = re.sub('~','',txt)\n",
    "        txt = re.sub('|','',txt)\n",
    "        txt = re.sub('\\s+', ' ', txt) ## remove double spaces\n",
    "        txt = re.sub(r'([A-Z][a-z]+)',lambda x:x.group().lower(),txt)##Lower case captilized words only but not words with all capitals\n",
    "        return txt.strip()\n",
    "data = [preprocess_text(t) for t in translator_data[\"lines_translations_english\"]]\n",
    "labels= translator_data.lines_translations_english_writer.values\n",
    "print('Done')"
   ]
  },
  {
   "cell_type": "code",
   "execution_count": 25,
   "metadata": {},
   "outputs": [
    {
     "name": "stdout",
     "output_type": "stream",
     "text": [
      "Done\n"
     ]
    }
   ],
   "source": [
    "# split data into train and test; 80% train and 20% test for binomial analysis\n",
    "x_train, x_test, y_train, y_test = train_test_split(data, labels, test_size=0.20, random_state=42)\n",
    "x_train, x_val, y_train, y_val = train_test_split(x_train, y_train, test_size=0.20, random_state=42)\n",
    "print('Done')"
   ]
  },
  {
   "cell_type": "code",
   "execution_count": 26,
   "metadata": {},
   "outputs": [
    {
     "name": "stdout",
     "output_type": "stream",
     "text": [
      "77452 24204 19364\n"
     ]
    }
   ],
   "source": [
    "# check size of train, test, and val datasets\n",
    "print(len(x_train),len(x_test),len(x_val))"
   ]
  },
  {
   "cell_type": "code",
   "execution_count": 35,
   "metadata": {},
   "outputs": [],
   "source": [
    "# creating pipeline to obtain best hyperparameters\n",
    "text_clf = Pipeline([('vect', CountVectorizer()),\n",
    "                     ('tfidf', TfidfTransformer()),\n",
    "                     ('lr', LogisticRegression())])\n",
    "\n",
    "tuned_parameters = {\n",
    "    'vect__ngram_range': [(1, 1), (1, 2), (2, 2)],\n",
    "    'tfidf__use_idf': (True, False),\n",
    "    'lr__solver': ['lbfgs'],\n",
    "    'lr__max_iter': [220, 1000],\n",
    "    'lr__multi_class' : ('multinomial','ovr')\n",
    "\n",
    "}"
   ]
  },
  {
   "cell_type": "code",
   "execution_count": 36,
   "metadata": {},
   "outputs": [
    {
     "name": "stdout",
     "output_type": "stream",
     "text": [
      "# Tuning hyper-parameters for f1_micro\n",
      "\n"
     ]
    },
    {
     "name": "stderr",
     "output_type": "stream",
     "text": [
      "C:\\Users\\Japneet\\Anaconda3\\lib\\site-packages\\sklearn\\linear_model\\logistic.py:947: ConvergenceWarning: lbfgs failed to converge. Increase the number of iterations.\n",
      "  \"of iterations.\", ConvergenceWarning)\n",
      "C:\\Users\\Japneet\\Anaconda3\\lib\\site-packages\\sklearn\\linear_model\\logistic.py:947: ConvergenceWarning: lbfgs failed to converge. Increase the number of iterations.\n",
      "  \"of iterations.\", ConvergenceWarning)\n",
      "C:\\Users\\Japneet\\Anaconda3\\lib\\site-packages\\sklearn\\linear_model\\logistic.py:947: ConvergenceWarning: lbfgs failed to converge. Increase the number of iterations.\n",
      "  \"of iterations.\", ConvergenceWarning)\n",
      "C:\\Users\\Japneet\\Anaconda3\\lib\\site-packages\\sklearn\\linear_model\\logistic.py:947: ConvergenceWarning: lbfgs failed to converge. Increase the number of iterations.\n",
      "  \"of iterations.\", ConvergenceWarning)\n",
      "C:\\Users\\Japneet\\Anaconda3\\lib\\site-packages\\sklearn\\linear_model\\logistic.py:947: ConvergenceWarning: lbfgs failed to converge. Increase the number of iterations.\n",
      "  \"of iterations.\", ConvergenceWarning)\n",
      "C:\\Users\\Japneet\\Anaconda3\\lib\\site-packages\\sklearn\\linear_model\\logistic.py:947: ConvergenceWarning: lbfgs failed to converge. Increase the number of iterations.\n",
      "  \"of iterations.\", ConvergenceWarning)\n",
      "C:\\Users\\Japneet\\Anaconda3\\lib\\site-packages\\sklearn\\linear_model\\logistic.py:947: ConvergenceWarning: lbfgs failed to converge. Increase the number of iterations.\n",
      "  \"of iterations.\", ConvergenceWarning)\n",
      "C:\\Users\\Japneet\\Anaconda3\\lib\\site-packages\\sklearn\\linear_model\\logistic.py:947: ConvergenceWarning: lbfgs failed to converge. Increase the number of iterations.\n",
      "  \"of iterations.\", ConvergenceWarning)\n",
      "C:\\Users\\Japneet\\Anaconda3\\lib\\site-packages\\sklearn\\linear_model\\logistic.py:947: ConvergenceWarning: lbfgs failed to converge. Increase the number of iterations.\n",
      "  \"of iterations.\", ConvergenceWarning)\n",
      "C:\\Users\\Japneet\\Anaconda3\\lib\\site-packages\\sklearn\\linear_model\\logistic.py:947: ConvergenceWarning: lbfgs failed to converge. Increase the number of iterations.\n",
      "  \"of iterations.\", ConvergenceWarning)\n"
     ]
    },
    {
     "name": "stdout",
     "output_type": "stream",
     "text": [
      "Best parameters set found on development set:\n",
      "\n",
      "{'lr__max_iter': 220, 'lr__multi_class': 'multinomial', 'lr__solver': 'lbfgs', 'tfidf__use_idf': True, 'vect__ngram_range': (1, 2)}\n",
      "\n",
      "Grid scores on development set:\n",
      "\n",
      "0.890 (+/-0.007) for {'lr__max_iter': 220, 'lr__multi_class': 'multinomial', 'lr__solver': 'lbfgs', 'tfidf__use_idf': True, 'vect__ngram_range': (1, 1)}\n",
      "0.918 (+/-0.006) for {'lr__max_iter': 220, 'lr__multi_class': 'multinomial', 'lr__solver': 'lbfgs', 'tfidf__use_idf': True, 'vect__ngram_range': (1, 2)}\n",
      "0.891 (+/-0.005) for {'lr__max_iter': 220, 'lr__multi_class': 'multinomial', 'lr__solver': 'lbfgs', 'tfidf__use_idf': True, 'vect__ngram_range': (2, 2)}\n",
      "0.882 (+/-0.006) for {'lr__max_iter': 220, 'lr__multi_class': 'multinomial', 'lr__solver': 'lbfgs', 'tfidf__use_idf': False, 'vect__ngram_range': (1, 1)}\n",
      "0.912 (+/-0.006) for {'lr__max_iter': 220, 'lr__multi_class': 'multinomial', 'lr__solver': 'lbfgs', 'tfidf__use_idf': False, 'vect__ngram_range': (1, 2)}\n",
      "0.886 (+/-0.004) for {'lr__max_iter': 220, 'lr__multi_class': 'multinomial', 'lr__solver': 'lbfgs', 'tfidf__use_idf': False, 'vect__ngram_range': (2, 2)}\n",
      "0.887 (+/-0.006) for {'lr__max_iter': 220, 'lr__multi_class': 'ovr', 'lr__solver': 'lbfgs', 'tfidf__use_idf': True, 'vect__ngram_range': (1, 1)}\n",
      "0.915 (+/-0.006) for {'lr__max_iter': 220, 'lr__multi_class': 'ovr', 'lr__solver': 'lbfgs', 'tfidf__use_idf': True, 'vect__ngram_range': (1, 2)}\n",
      "0.887 (+/-0.004) for {'lr__max_iter': 220, 'lr__multi_class': 'ovr', 'lr__solver': 'lbfgs', 'tfidf__use_idf': True, 'vect__ngram_range': (2, 2)}\n",
      "0.876 (+/-0.006) for {'lr__max_iter': 220, 'lr__multi_class': 'ovr', 'lr__solver': 'lbfgs', 'tfidf__use_idf': False, 'vect__ngram_range': (1, 1)}\n",
      "0.905 (+/-0.006) for {'lr__max_iter': 220, 'lr__multi_class': 'ovr', 'lr__solver': 'lbfgs', 'tfidf__use_idf': False, 'vect__ngram_range': (1, 2)}\n",
      "0.880 (+/-0.005) for {'lr__max_iter': 220, 'lr__multi_class': 'ovr', 'lr__solver': 'lbfgs', 'tfidf__use_idf': False, 'vect__ngram_range': (2, 2)}\n",
      "0.890 (+/-0.007) for {'lr__max_iter': 1000, 'lr__multi_class': 'multinomial', 'lr__solver': 'lbfgs', 'tfidf__use_idf': True, 'vect__ngram_range': (1, 1)}\n",
      "0.918 (+/-0.006) for {'lr__max_iter': 1000, 'lr__multi_class': 'multinomial', 'lr__solver': 'lbfgs', 'tfidf__use_idf': True, 'vect__ngram_range': (1, 2)}\n",
      "0.891 (+/-0.005) for {'lr__max_iter': 1000, 'lr__multi_class': 'multinomial', 'lr__solver': 'lbfgs', 'tfidf__use_idf': True, 'vect__ngram_range': (2, 2)}\n",
      "0.882 (+/-0.005) for {'lr__max_iter': 1000, 'lr__multi_class': 'multinomial', 'lr__solver': 'lbfgs', 'tfidf__use_idf': False, 'vect__ngram_range': (1, 1)}\n",
      "0.912 (+/-0.006) for {'lr__max_iter': 1000, 'lr__multi_class': 'multinomial', 'lr__solver': 'lbfgs', 'tfidf__use_idf': False, 'vect__ngram_range': (1, 2)}\n",
      "0.886 (+/-0.004) for {'lr__max_iter': 1000, 'lr__multi_class': 'multinomial', 'lr__solver': 'lbfgs', 'tfidf__use_idf': False, 'vect__ngram_range': (2, 2)}\n",
      "0.887 (+/-0.006) for {'lr__max_iter': 1000, 'lr__multi_class': 'ovr', 'lr__solver': 'lbfgs', 'tfidf__use_idf': True, 'vect__ngram_range': (1, 1)}\n",
      "0.915 (+/-0.006) for {'lr__max_iter': 1000, 'lr__multi_class': 'ovr', 'lr__solver': 'lbfgs', 'tfidf__use_idf': True, 'vect__ngram_range': (1, 2)}\n",
      "0.887 (+/-0.004) for {'lr__max_iter': 1000, 'lr__multi_class': 'ovr', 'lr__solver': 'lbfgs', 'tfidf__use_idf': True, 'vect__ngram_range': (2, 2)}\n",
      "0.876 (+/-0.006) for {'lr__max_iter': 1000, 'lr__multi_class': 'ovr', 'lr__solver': 'lbfgs', 'tfidf__use_idf': False, 'vect__ngram_range': (1, 1)}\n",
      "0.905 (+/-0.006) for {'lr__max_iter': 1000, 'lr__multi_class': 'ovr', 'lr__solver': 'lbfgs', 'tfidf__use_idf': False, 'vect__ngram_range': (1, 2)}\n",
      "0.880 (+/-0.005) for {'lr__max_iter': 1000, 'lr__multi_class': 'ovr', 'lr__solver': 'lbfgs', 'tfidf__use_idf': False, 'vect__ngram_range': (2, 2)}\n",
      "\n",
      "Detailed classification report:\n",
      "\n",
      "The model is trained on the full development set.\n"
     ]
    }
   ],
   "source": [
    "# obtaining best hyperparameters using GridSearchCV for binomial analysis\n",
    "# fit model \n",
    "score = 'f1_micro'\n",
    "print(\"# Tuning hyper-parameters for %s\" % score)\n",
    "print()\n",
    "np.errstate(divide='ignore')\n",
    "clf = GridSearchCV(text_clf, tuned_parameters, cv=10, scoring=score)\n",
    "clf.fit(x_train, y_train)\n",
    "\n",
    "print(\"Best parameters set found on development set:\")\n",
    "print()\n",
    "print(clf.best_params_)\n",
    "print()\n",
    "print(\"Grid scores on development set:\")\n",
    "print()\n",
    "for mean, std, params in zip(clf.cv_results_['mean_test_score'], \n",
    "                             clf.cv_results_['std_test_score'], \n",
    "                             clf.cv_results_['params']):\n",
    "    print(\"%0.3f (+/-%0.03f) for %r\" % (mean, std * 2, params))\n",
    "print()\n",
    "\n",
    "print(\"Detailed classification report:\")\n",
    "print()\n",
    "print(\"The model is trained on the full development set.\")"
   ]
  },
  {
   "cell_type": "code",
   "execution_count": 37,
   "metadata": {},
   "outputs": [
    {
     "name": "stdout",
     "output_type": "stream",
     "text": [
      "              precision    recall  f1-score   support\n",
      "\n",
      "           0     0.9205    0.9187    0.9196      9706\n",
      "           1     0.9185    0.9203    0.9194      9658\n",
      "\n",
      "    accuracy                         0.9195     19364\n",
      "   macro avg     0.9195    0.9195    0.9195     19364\n",
      "weighted avg     0.9195    0.9195    0.9195     19364\n",
      "\n",
      "              precision    recall  f1-score   support\n",
      "\n",
      "           0     0.9173    0.9210    0.9192     12006\n",
      "           1     0.9220    0.9183    0.9201     12198\n",
      "\n",
      "    accuracy                         0.9196     24204\n",
      "   macro avg     0.9196    0.9197    0.9196     24204\n",
      "weighted avg     0.9197    0.9196    0.9196     24204\n",
      "\n"
     ]
    }
   ],
   "source": [
    "# predictions using best parameters for validation and test data\n",
    "y_val_pred= clf.predict(x_val)\n",
    "y_test_pred = clf.predict(x_test)\n",
    "print(classification_report(y_val, y_val_pred, digits=4))\n",
    "print(classification_report(y_test, y_test_pred, digits=4))"
   ]
  },
  {
   "cell_type": "code",
   "execution_count": 38,
   "metadata": {},
   "outputs": [
    {
     "name": "stdout",
     "output_type": "stream",
     "text": [
      "[[11058   948]\n",
      " [  997 11201]]\n"
     ]
    }
   ],
   "source": [
    "# obtain confusion matrix for test data\n",
    "print(metrics.confusion_matrix(y_test, y_test_pred))"
   ]
  },
  {
   "cell_type": "code",
   "execution_count": null,
   "metadata": {},
   "outputs": [],
   "source": []
  }
 ],
 "metadata": {
  "kernelspec": {
   "display_name": "Python 3",
   "language": "python",
   "name": "python3"
  },
  "language_info": {
   "codemirror_mode": {
    "name": "ipython",
    "version": 3
   },
   "file_extension": ".py",
   "mimetype": "text/x-python",
   "name": "python",
   "nbconvert_exporter": "python",
   "pygments_lexer": "ipython3",
   "version": "3.7.4"
  }
 },
 "nbformat": 4,
 "nbformat_minor": 2
}
