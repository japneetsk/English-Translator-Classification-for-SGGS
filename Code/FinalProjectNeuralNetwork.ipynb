{
  "nbformat": 4,
  "nbformat_minor": 0,
  "metadata": {
    "colab": {
      "name": "FinalProjectNeuralNetwork.ipynb",
      "provenance": [],
      "collapsed_sections": []
    },
    "kernelspec": {
      "name": "python3",
      "display_name": "Python 3"
    },
    "accelerator": "GPU"
  },
  "cells": [
    {
      "cell_type": "code",
      "metadata": {
        "id": "veEqgOMe82td"
      },
      "source": [
        "##### AIT 726 - Final Project Neural Network Code\n",
        "##### By Japneet Kohli\n",
        "\n",
        "####  The code is executed in the following order\n",
        "\n",
        "1.   Load data.\n",
        "2.   Select only translation writer and line translations data from the list of attributes.\n",
        "3.   Preprocess text using regex.\n",
        "5.   Use label encoder to assign numeric values to the categeorical labels of the translator writer.\n",
        "6.   Split data into train and test.\n",
        "7.   Toeknize words and pad sentences to convert words into vectors.\n",
        "7.   Use GloVe pretrained word embeddings to create embedding matrix.\n",
        "8.   Define bi-lstm  model with embedding layer, lstm layer and output layer.\n",
        "9.   Compile and fit model.\n",
        "10.  Predict values for test data and compute accuracy.\n"
      ],
      "execution_count": null,
      "outputs": []
    },
    {
      "cell_type": "code",
      "metadata": {
        "id": "qqi9obUMCQl8",
        "outputId": "63601bbd-8b12-4d88-ecfe-48d9ff93e250",
        "colab": {
          "base_uri": "https://localhost:8080/"
        }
      },
      "source": [
        "# Load all the required packaegs and libraries.\n",
        "import os\n",
        "import re\n",
        "import logging\n",
        "import numpy as np\n",
        "from numpy import zeros\n",
        "import pandas as pd\n",
        "import random\n",
        "from nltk import word_tokenize\n",
        "from nltk.util import ngrams\n",
        "from keras.preprocessing.text import Tokenizer\n",
        "from keras.models import Sequential\n",
        "from keras.layers import Dense\n",
        "from keras.layers import Flatten\n",
        "from keras.preprocessing.sequence import pad_sequences\n",
        "from keras.optimizers import Adam\n",
        "from keras.layers.embeddings import Embedding\n",
        "from sklearn.model_selection import KFold\n",
        "from sklearn.model_selection import train_test_split, GridSearchCV\n",
        "from keras.callbacks import EarlyStopping\n",
        "from keras.layers.convolutional import Conv1D\n",
        "from keras.layers.convolutional import MaxPooling1D\n",
        "from keras.layers import Dense, SimpleRNN, Activation,TimeDistributed,InputLayer,Bidirectional,LSTM,GRU\n",
        "from keras import optimizers\n",
        "from keras.optimizers import Adam\n",
        "from keras import backend as K\n",
        "import time\n",
        "from keras.models import model_from_json\n",
        "start_time = time.time()\n",
        "from sklearn.preprocessing import LabelEncoder\n",
        "from keras.models import Model\n",
        "from keras.layers import Dropout, Input, Embedding\n",
        "from keras.optimizers import RMSprop\n",
        "from keras.preprocessing.text import Tokenizer\n",
        "from keras.preprocessing import sequence\n",
        "from keras.utils import to_categorical\n",
        "\n",
        "from gensim import models\n",
        "print('Done')"
      ],
      "execution_count": null,
      "outputs": [
        {
          "output_type": "stream",
          "text": [
            "Done\n"
          ],
          "name": "stdout"
        }
      ]
    },
    {
      "cell_type": "code",
      "metadata": {
        "id": "wiSmwVBtCQzi",
        "outputId": "b6cf3b63-4f9c-45dd-ac98-7f55fedda685",
        "colab": {
          "base_uri": "https://localhost:8080/"
        }
      },
      "source": [
        "#Mount drive\n",
        "from google.colab import drive\n",
        "drive.mount('/content/gdrive')"
      ],
      "execution_count": null,
      "outputs": [
        {
          "output_type": "stream",
          "text": [
            "Mounted at /content/gdrive\n"
          ],
          "name": "stdout"
        }
      ]
    },
    {
      "cell_type": "code",
      "metadata": {
        "id": "YBM2WXcaCQ13"
      },
      "source": [
        "# Load data\n",
        "data=pd.read_csv(\"datadf.csv\")"
      ],
      "execution_count": null,
      "outputs": []
    },
    {
      "cell_type": "code",
      "metadata": {
        "id": "_o6Lld-nCQ4M",
        "outputId": "d9f1ce06-a521-461e-c41b-427489c5ad80",
        "colab": {
          "base_uri": "https://localhost:8080/",
          "height": 204
        }
      },
      "source": [
        "# Display data\n",
        "data.head()"
      ],
      "execution_count": null,
      "outputs": [
        {
          "output_type": "execute_result",
          "data": {
            "text/html": [
              "<div>\n",
              "<style scoped>\n",
              "    .dataframe tbody tr th:only-of-type {\n",
              "        vertical-align: middle;\n",
              "    }\n",
              "\n",
              "    .dataframe tbody tr th {\n",
              "        vertical-align: top;\n",
              "    }\n",
              "\n",
              "    .dataframe thead th {\n",
              "        text-align: right;\n",
              "    }\n",
              "</style>\n",
              "<table border=\"1\" class=\"dataframe\">\n",
              "  <thead>\n",
              "    <tr style=\"text-align: right;\">\n",
              "      <th></th>\n",
              "      <th>Unnamed: 0</th>\n",
              "      <th>writer</th>\n",
              "      <th>lines_translations_english_writer</th>\n",
              "      <th>lines_translations_english</th>\n",
              "      <th>lines_type</th>\n",
              "    </tr>\n",
              "  </thead>\n",
              "  <tbody>\n",
              "    <tr>\n",
              "      <th>0</th>\n",
              "      <td>1</td>\n",
              "      <td>Guru Nanak Dev Ji</td>\n",
              "      <td>Dr. Sant Singh Khalsa</td>\n",
              "      <td>One Universal Creator God. The Name Is Truth. ...</td>\n",
              "      <td>Manglacharan</td>\n",
              "    </tr>\n",
              "    <tr>\n",
              "      <th>1</th>\n",
              "      <td>2</td>\n",
              "      <td>Guru Nanak Dev Ji</td>\n",
              "      <td>Bhai Manmohan Singh</td>\n",
              "      <td>There is but one God. True is His Name, creati...</td>\n",
              "      <td>Manglacharan</td>\n",
              "    </tr>\n",
              "    <tr>\n",
              "      <th>2</th>\n",
              "      <td>5</td>\n",
              "      <td>Guru Nanak Dev Ji</td>\n",
              "      <td>Dr. Sant Singh Khalsa</td>\n",
              "      <td>Chant And Meditate:</td>\n",
              "      <td>Sirlekh</td>\n",
              "    </tr>\n",
              "    <tr>\n",
              "      <th>3</th>\n",
              "      <td>6</td>\n",
              "      <td>Guru Nanak Dev Ji</td>\n",
              "      <td>Bhai Manmohan Singh</td>\n",
              "      <td>Embrace His meditation.</td>\n",
              "      <td>Sirlekh</td>\n",
              "    </tr>\n",
              "    <tr>\n",
              "      <th>4</th>\n",
              "      <td>9</td>\n",
              "      <td>Guru Nanak Dev Ji</td>\n",
              "      <td>Dr. Sant Singh Khalsa</td>\n",
              "      <td>True In The Primal Beginning. True Throughout ...</td>\n",
              "      <td>Pankti</td>\n",
              "    </tr>\n",
              "  </tbody>\n",
              "</table>\n",
              "</div>"
            ],
            "text/plain": [
              "   Unnamed: 0  ...    lines_type\n",
              "0           1  ...  Manglacharan\n",
              "1           2  ...  Manglacharan\n",
              "2           5  ...       Sirlekh\n",
              "3           6  ...       Sirlekh\n",
              "4           9  ...        Pankti\n",
              "\n",
              "[5 rows x 5 columns]"
            ]
          },
          "metadata": {
            "tags": []
          },
          "execution_count": 5
        }
      ]
    },
    {
      "cell_type": "code",
      "metadata": {
        "id": "s_UgwCxgCQ6j",
        "outputId": "34db18db-75c2-47d1-94a3-9b9100b0ae43",
        "colab": {
          "base_uri": "https://localhost:8080/"
        }
      },
      "source": [
        "# Check Shape\n",
        "data.shape"
      ],
      "execution_count": null,
      "outputs": [
        {
          "output_type": "execute_result",
          "data": {
            "text/plain": [
              "(121020, 5)"
            ]
          },
          "metadata": {
            "tags": []
          },
          "execution_count": 6
        }
      ]
    },
    {
      "cell_type": "code",
      "metadata": {
        "id": "6dpKoDqpEB1H",
        "outputId": "7b75034c-616d-4e00-8101-fc26d3e5819a",
        "colab": {
          "base_uri": "https://localhost:8080/"
        }
      },
      "source": [
        "# List columns\n",
        "data.columns"
      ],
      "execution_count": null,
      "outputs": [
        {
          "output_type": "execute_result",
          "data": {
            "text/plain": [
              "Index(['Unnamed: 0', 'writer', 'lines_translations_english_writer',\n",
              "       'lines_translations_english', 'lines_type'],\n",
              "      dtype='object')"
            ]
          },
          "metadata": {
            "tags": []
          },
          "execution_count": 7
        }
      ]
    },
    {
      "cell_type": "code",
      "metadata": {
        "id": "LmHkg5JsEB3T"
      },
      "source": [
        "# Create subset of data with only required columns\n",
        "columns_to_keep = ['writer','lines_translations_english_writer','lines_translations_english','lines_type']\n",
        "newdata=data[columns_to_keep]"
      ],
      "execution_count": null,
      "outputs": []
    },
    {
      "cell_type": "code",
      "metadata": {
        "id": "RF0e22IIEB5b",
        "outputId": "0f7b6f35-061c-4be6-f363-fc0dc098e907",
        "colab": {
          "base_uri": "https://localhost:8080/",
          "height": 204
        }
      },
      "source": [
        "# Display data\n",
        "newdata.head()"
      ],
      "execution_count": null,
      "outputs": [
        {
          "output_type": "execute_result",
          "data": {
            "text/html": [
              "<div>\n",
              "<style scoped>\n",
              "    .dataframe tbody tr th:only-of-type {\n",
              "        vertical-align: middle;\n",
              "    }\n",
              "\n",
              "    .dataframe tbody tr th {\n",
              "        vertical-align: top;\n",
              "    }\n",
              "\n",
              "    .dataframe thead th {\n",
              "        text-align: right;\n",
              "    }\n",
              "</style>\n",
              "<table border=\"1\" class=\"dataframe\">\n",
              "  <thead>\n",
              "    <tr style=\"text-align: right;\">\n",
              "      <th></th>\n",
              "      <th>writer</th>\n",
              "      <th>lines_translations_english_writer</th>\n",
              "      <th>lines_translations_english</th>\n",
              "      <th>lines_type</th>\n",
              "    </tr>\n",
              "  </thead>\n",
              "  <tbody>\n",
              "    <tr>\n",
              "      <th>0</th>\n",
              "      <td>Guru Nanak Dev Ji</td>\n",
              "      <td>Dr. Sant Singh Khalsa</td>\n",
              "      <td>One Universal Creator God. The Name Is Truth. ...</td>\n",
              "      <td>Manglacharan</td>\n",
              "    </tr>\n",
              "    <tr>\n",
              "      <th>1</th>\n",
              "      <td>Guru Nanak Dev Ji</td>\n",
              "      <td>Bhai Manmohan Singh</td>\n",
              "      <td>There is but one God. True is His Name, creati...</td>\n",
              "      <td>Manglacharan</td>\n",
              "    </tr>\n",
              "    <tr>\n",
              "      <th>2</th>\n",
              "      <td>Guru Nanak Dev Ji</td>\n",
              "      <td>Dr. Sant Singh Khalsa</td>\n",
              "      <td>Chant And Meditate:</td>\n",
              "      <td>Sirlekh</td>\n",
              "    </tr>\n",
              "    <tr>\n",
              "      <th>3</th>\n",
              "      <td>Guru Nanak Dev Ji</td>\n",
              "      <td>Bhai Manmohan Singh</td>\n",
              "      <td>Embrace His meditation.</td>\n",
              "      <td>Sirlekh</td>\n",
              "    </tr>\n",
              "    <tr>\n",
              "      <th>4</th>\n",
              "      <td>Guru Nanak Dev Ji</td>\n",
              "      <td>Dr. Sant Singh Khalsa</td>\n",
              "      <td>True In The Primal Beginning. True Throughout ...</td>\n",
              "      <td>Pankti</td>\n",
              "    </tr>\n",
              "  </tbody>\n",
              "</table>\n",
              "</div>"
            ],
            "text/plain": [
              "              writer  ...    lines_type\n",
              "0  Guru Nanak Dev Ji  ...  Manglacharan\n",
              "1  Guru Nanak Dev Ji  ...  Manglacharan\n",
              "2  Guru Nanak Dev Ji  ...       Sirlekh\n",
              "3  Guru Nanak Dev Ji  ...       Sirlekh\n",
              "4  Guru Nanak Dev Ji  ...        Pankti\n",
              "\n",
              "[5 rows x 4 columns]"
            ]
          },
          "metadata": {
            "tags": []
          },
          "execution_count": 9
        }
      ]
    },
    {
      "cell_type": "code",
      "metadata": {
        "id": "7_eMUJzIEB7w",
        "outputId": "b9ece9e7-b7e5-4129-b8b2-5a739f820427",
        "colab": {
          "base_uri": "https://localhost:8080/",
          "height": 173
        }
      },
      "source": [
        "# Describe data\n",
        "newdata.describe()"
      ],
      "execution_count": null,
      "outputs": [
        {
          "output_type": "execute_result",
          "data": {
            "text/html": [
              "<div>\n",
              "<style scoped>\n",
              "    .dataframe tbody tr th:only-of-type {\n",
              "        vertical-align: middle;\n",
              "    }\n",
              "\n",
              "    .dataframe tbody tr th {\n",
              "        vertical-align: top;\n",
              "    }\n",
              "\n",
              "    .dataframe thead th {\n",
              "        text-align: right;\n",
              "    }\n",
              "</style>\n",
              "<table border=\"1\" class=\"dataframe\">\n",
              "  <thead>\n",
              "    <tr style=\"text-align: right;\">\n",
              "      <th></th>\n",
              "      <th>writer</th>\n",
              "      <th>lines_translations_english_writer</th>\n",
              "      <th>lines_translations_english</th>\n",
              "      <th>lines_type</th>\n",
              "    </tr>\n",
              "  </thead>\n",
              "  <tbody>\n",
              "    <tr>\n",
              "      <th>count</th>\n",
              "      <td>121020</td>\n",
              "      <td>121020</td>\n",
              "      <td>121020</td>\n",
              "      <td>121020</td>\n",
              "    </tr>\n",
              "    <tr>\n",
              "      <th>unique</th>\n",
              "      <td>35</td>\n",
              "      <td>2</td>\n",
              "      <td>112029</td>\n",
              "      <td>4</td>\n",
              "    </tr>\n",
              "    <tr>\n",
              "      <th>top</th>\n",
              "      <td>Guru Arjan Dev Ji</td>\n",
              "      <td>Dr. Sant Singh Khalsa</td>\n",
              "      <td>One Universal Creator God. By The Grace Of The...</td>\n",
              "      <td>Pankti</td>\n",
              "    </tr>\n",
              "    <tr>\n",
              "      <th>freq</th>\n",
              "      <td>49746</td>\n",
              "      <td>60510</td>\n",
              "      <td>525</td>\n",
              "      <td>100400</td>\n",
              "    </tr>\n",
              "  </tbody>\n",
              "</table>\n",
              "</div>"
            ],
            "text/plain": [
              "                   writer  ... lines_type\n",
              "count              121020  ...     121020\n",
              "unique                 35  ...          4\n",
              "top     Guru Arjan Dev Ji  ...     Pankti\n",
              "freq                49746  ...     100400\n",
              "\n",
              "[4 rows x 4 columns]"
            ]
          },
          "metadata": {
            "tags": []
          },
          "execution_count": 10
        }
      ]
    },
    {
      "cell_type": "code",
      "metadata": {
        "id": "7JKTziygEB-J",
        "outputId": "bb905971-df8e-4d2e-e1f7-f34d648e7b6f",
        "colab": {
          "base_uri": "https://localhost:8080/"
        }
      },
      "source": [
        "# Check Shape\n",
        "newdata.shape"
      ],
      "execution_count": null,
      "outputs": [
        {
          "output_type": "execute_result",
          "data": {
            "text/plain": [
              "(121020, 4)"
            ]
          },
          "metadata": {
            "tags": []
          },
          "execution_count": 11
        }
      ]
    },
    {
      "cell_type": "code",
      "metadata": {
        "id": "89EmXIkWECAZ",
        "outputId": "007f9328-f09a-4b54-926c-0ec89a062eab",
        "colab": {
          "base_uri": "https://localhost:8080/"
        }
      },
      "source": [
        "# Check Info\n",
        "newdata.info()"
      ],
      "execution_count": null,
      "outputs": [
        {
          "output_type": "stream",
          "text": [
            "<class 'pandas.core.frame.DataFrame'>\n",
            "RangeIndex: 121020 entries, 0 to 121019\n",
            "Data columns (total 4 columns):\n",
            " #   Column                             Non-Null Count   Dtype \n",
            "---  ------                             --------------   ----- \n",
            " 0   writer                             121020 non-null  object\n",
            " 1   lines_translations_english_writer  121020 non-null  object\n",
            " 2   lines_translations_english         121020 non-null  object\n",
            " 3   lines_type                         121020 non-null  object\n",
            "dtypes: object(4)\n",
            "memory usage: 3.7+ MB\n"
          ],
          "name": "stdout"
        }
      ]
    },
    {
      "cell_type": "code",
      "metadata": {
        "id": "W86XAO3VECCh",
        "outputId": "d28b6737-efc4-4541-855e-940f518b6c60",
        "colab": {
          "base_uri": "https://localhost:8080/"
        }
      },
      "source": [
        "# Check Categorical Label Distribution\n",
        "newdata.lines_translations_english_writer.value_counts()"
      ],
      "execution_count": null,
      "outputs": [
        {
          "output_type": "execute_result",
          "data": {
            "text/plain": [
              "Dr. Sant Singh Khalsa    60510\n",
              "Bhai Manmohan Singh      60510\n",
              "Name: lines_translations_english_writer, dtype: int64"
            ]
          },
          "metadata": {
            "tags": []
          },
          "execution_count": 13
        }
      ]
    },
    {
      "cell_type": "code",
      "metadata": {
        "id": "oMIAgOPKECEv"
      },
      "source": [
        "# Subset data to keep only columns for prediction\n",
        "translator_columns=['lines_translations_english_writer','lines_translations_english']\n",
        "translator_data=newdata[translator_columns]"
      ],
      "execution_count": null,
      "outputs": []
    },
    {
      "cell_type": "code",
      "metadata": {
        "id": "rmp8VHyJECHE",
        "outputId": "322c551a-91f1-4ab1-d82f-e344b97f5fa6",
        "colab": {
          "base_uri": "https://localhost:8080/",
          "height": 204
        }
      },
      "source": [
        "# Display data\n",
        "translator_data.head()"
      ],
      "execution_count": null,
      "outputs": [
        {
          "output_type": "execute_result",
          "data": {
            "text/html": [
              "<div>\n",
              "<style scoped>\n",
              "    .dataframe tbody tr th:only-of-type {\n",
              "        vertical-align: middle;\n",
              "    }\n",
              "\n",
              "    .dataframe tbody tr th {\n",
              "        vertical-align: top;\n",
              "    }\n",
              "\n",
              "    .dataframe thead th {\n",
              "        text-align: right;\n",
              "    }\n",
              "</style>\n",
              "<table border=\"1\" class=\"dataframe\">\n",
              "  <thead>\n",
              "    <tr style=\"text-align: right;\">\n",
              "      <th></th>\n",
              "      <th>lines_translations_english_writer</th>\n",
              "      <th>lines_translations_english</th>\n",
              "    </tr>\n",
              "  </thead>\n",
              "  <tbody>\n",
              "    <tr>\n",
              "      <th>0</th>\n",
              "      <td>Dr. Sant Singh Khalsa</td>\n",
              "      <td>One Universal Creator God. The Name Is Truth. ...</td>\n",
              "    </tr>\n",
              "    <tr>\n",
              "      <th>1</th>\n",
              "      <td>Bhai Manmohan Singh</td>\n",
              "      <td>There is but one God. True is His Name, creati...</td>\n",
              "    </tr>\n",
              "    <tr>\n",
              "      <th>2</th>\n",
              "      <td>Dr. Sant Singh Khalsa</td>\n",
              "      <td>Chant And Meditate:</td>\n",
              "    </tr>\n",
              "    <tr>\n",
              "      <th>3</th>\n",
              "      <td>Bhai Manmohan Singh</td>\n",
              "      <td>Embrace His meditation.</td>\n",
              "    </tr>\n",
              "    <tr>\n",
              "      <th>4</th>\n",
              "      <td>Dr. Sant Singh Khalsa</td>\n",
              "      <td>True In The Primal Beginning. True Throughout ...</td>\n",
              "    </tr>\n",
              "  </tbody>\n",
              "</table>\n",
              "</div>"
            ],
            "text/plain": [
              "  lines_translations_english_writer                         lines_translations_english\n",
              "0             Dr. Sant Singh Khalsa  One Universal Creator God. The Name Is Truth. ...\n",
              "1               Bhai Manmohan Singh  There is but one God. True is His Name, creati...\n",
              "2             Dr. Sant Singh Khalsa                                Chant And Meditate:\n",
              "3               Bhai Manmohan Singh                            Embrace His meditation.\n",
              "4             Dr. Sant Singh Khalsa  True In The Primal Beginning. True Throughout ..."
            ]
          },
          "metadata": {
            "tags": []
          },
          "execution_count": 15
        }
      ]
    },
    {
      "cell_type": "code",
      "metadata": {
        "id": "LMAdyxBWFz55",
        "outputId": "7ebdaed0-6f9f-43f7-d010-d2aae1f56e06",
        "colab": {
          "base_uri": "https://localhost:8080/"
        }
      },
      "source": [
        "# Check Shape\n",
        "translator_data.shape"
      ],
      "execution_count": null,
      "outputs": [
        {
          "output_type": "execute_result",
          "data": {
            "text/plain": [
              "(121020, 2)"
            ]
          },
          "metadata": {
            "tags": []
          },
          "execution_count": 16
        }
      ]
    },
    {
      "cell_type": "code",
      "metadata": {
        "id": "7xTjGBymFz8I",
        "outputId": "fc89c0f0-4a97-48ce-9fa0-49d478173f41",
        "colab": {
          "base_uri": "https://localhost:8080/",
          "height": 173
        }
      },
      "source": [
        "# Describe data\n",
        "translator_data.describe()"
      ],
      "execution_count": null,
      "outputs": [
        {
          "output_type": "execute_result",
          "data": {
            "text/html": [
              "<div>\n",
              "<style scoped>\n",
              "    .dataframe tbody tr th:only-of-type {\n",
              "        vertical-align: middle;\n",
              "    }\n",
              "\n",
              "    .dataframe tbody tr th {\n",
              "        vertical-align: top;\n",
              "    }\n",
              "\n",
              "    .dataframe thead th {\n",
              "        text-align: right;\n",
              "    }\n",
              "</style>\n",
              "<table border=\"1\" class=\"dataframe\">\n",
              "  <thead>\n",
              "    <tr style=\"text-align: right;\">\n",
              "      <th></th>\n",
              "      <th>lines_translations_english_writer</th>\n",
              "      <th>lines_translations_english</th>\n",
              "    </tr>\n",
              "  </thead>\n",
              "  <tbody>\n",
              "    <tr>\n",
              "      <th>count</th>\n",
              "      <td>121020</td>\n",
              "      <td>121020</td>\n",
              "    </tr>\n",
              "    <tr>\n",
              "      <th>unique</th>\n",
              "      <td>2</td>\n",
              "      <td>112029</td>\n",
              "    </tr>\n",
              "    <tr>\n",
              "      <th>top</th>\n",
              "      <td>Dr. Sant Singh Khalsa</td>\n",
              "      <td>One Universal Creator God. By The Grace Of The...</td>\n",
              "    </tr>\n",
              "    <tr>\n",
              "      <th>freq</th>\n",
              "      <td>60510</td>\n",
              "      <td>525</td>\n",
              "    </tr>\n",
              "  </tbody>\n",
              "</table>\n",
              "</div>"
            ],
            "text/plain": [
              "       lines_translations_english_writer                         lines_translations_english\n",
              "count                             121020                                             121020\n",
              "unique                                 2                                             112029\n",
              "top                Dr. Sant Singh Khalsa  One Universal Creator God. By The Grace Of The...\n",
              "freq                               60510                                                525"
            ]
          },
          "metadata": {
            "tags": []
          },
          "execution_count": 17
        }
      ]
    },
    {
      "cell_type": "code",
      "metadata": {
        "id": "jhyFTJ3yFz-d",
        "outputId": "7b18825f-ca18-4b53-b2b3-6741e8208db5",
        "colab": {
          "base_uri": "https://localhost:8080/"
        }
      },
      "source": [
        "# Check info\n",
        "translator_data.info()"
      ],
      "execution_count": null,
      "outputs": [
        {
          "output_type": "stream",
          "text": [
            "<class 'pandas.core.frame.DataFrame'>\n",
            "RangeIndex: 121020 entries, 0 to 121019\n",
            "Data columns (total 2 columns):\n",
            " #   Column                             Non-Null Count   Dtype \n",
            "---  ------                             --------------   ----- \n",
            " 0   lines_translations_english_writer  121020 non-null  object\n",
            " 1   lines_translations_english         121020 non-null  object\n",
            "dtypes: object(2)\n",
            "memory usage: 1.8+ MB\n"
          ],
          "name": "stdout"
        }
      ]
    },
    {
      "cell_type": "code",
      "metadata": {
        "id": "wR2WaA3VF0Cq",
        "outputId": "9a0d278f-6be9-4d9d-faec-c64bd39dc141",
        "colab": {
          "base_uri": "https://localhost:8080/"
        }
      },
      "source": [
        "# Check if categorical distribution is the same as before\n",
        "translator_data.lines_translations_english_writer.value_counts()"
      ],
      "execution_count": null,
      "outputs": [
        {
          "output_type": "execute_result",
          "data": {
            "text/plain": [
              "Dr. Sant Singh Khalsa    60510\n",
              "Bhai Manmohan Singh      60510\n",
              "Name: lines_translations_english_writer, dtype: int64"
            ]
          },
          "metadata": {
            "tags": []
          },
          "execution_count": 19
        }
      ]
    },
    {
      "cell_type": "code",
      "metadata": {
        "id": "b7-uSppmF0F1",
        "outputId": "5adcae49-d696-4c0a-c28e-03b2116fb79f",
        "colab": {
          "base_uri": "https://localhost:8080/",
          "height": 35
        }
      },
      "source": [
        "# Check a random line of data\n",
        "translator_data.lines_translations_english[14]"
      ],
      "execution_count": null,
      "outputs": [
        {
          "output_type": "execute_result",
          "data": {
            "application/vnd.google.colaboratory.intrinsic+json": {
              "type": "string"
            },
            "text/plain": [
              "'Hundreds of thousands of clever tricks, but not even one of them will go along with you in the end.'"
            ]
          },
          "metadata": {
            "tags": []
          },
          "execution_count": 20
        }
      ]
    },
    {
      "cell_type": "code",
      "metadata": {
        "id": "9V43rKllF0A8",
        "outputId": "9b1c5466-8b18-49c4-bbe1-5deb55d58aba",
        "colab": {
          "base_uri": "https://localhost:8080/"
        }
      },
      "source": [
        "# Check text of translated data\n",
        "translator_data[\"lines_translations_english\"]"
      ],
      "execution_count": null,
      "outputs": [
        {
          "output_type": "execute_result",
          "data": {
            "text/plain": [
              "0         One Universal Creator God. The Name Is Truth. ...\n",
              "1         There is but one God. True is His Name, creati...\n",
              "2                                       Chant And Meditate:\n",
              "3                                   Embrace His meditation.\n",
              "4         True In The Primal Beginning. True Throughout ...\n",
              "                                ...                        \n",
              "121015    These are the names of the sons of Maygh Raag....\n",
              "121016    So all together, they sing the six Raagas and ...\n",
              "121017    So all together, they sing the six Raagas and ...\n",
              "121018    and all the forty-eight sons of the Raagas. ||...\n",
              "121019    and all the forty-eight sons of the Raagas. ||...\n",
              "Name: lines_translations_english, Length: 121020, dtype: object"
            ]
          },
          "metadata": {
            "tags": []
          },
          "execution_count": 21
        }
      ]
    },
    {
      "cell_type": "code",
      "metadata": {
        "id": "E_IrhyADECJW"
      },
      "source": [
        "#Create function for data preprocessing using regular expressions\n",
        "# Punctuation, HTML tags, non-ascii characters, etc, are all removed\n",
        "\n",
        "def preprocess_text(txt):\n",
        "        txt = re.sub(r'(?:<[^>]+>)', '', txt)#Html tags\n",
        "        txt = re.sub('[^\\x00-\\x7F]+', ' ', txt) ##remove non ascii characters\n",
        "        txt = re.sub('#\\S+', '', txt)\n",
        "        txt = re.sub('_', '', txt)\n",
        "        txt = re.sub('-',' ',txt)\n",
        "        txt = re.sub('/','',txt)\n",
        "        txt = re.sub('~','',txt)\n",
        "        txt = re.sub('|','',txt)\n",
        "        txt = re.sub('\\s+', ' ', txt) ## remove double spaces\n",
        "        txt = re.sub(r'([A-Z][a-z]+)',lambda x:x.group().lower(),txt)##Lower case captilized words only but not words with all capitals\n",
        "        return txt.strip()\n",
        "data = [preprocess_text(t) for t in translator_data[\"lines_translations_english\"]]"
      ],
      "execution_count": null,
      "outputs": []
    },
    {
      "cell_type": "code",
      "metadata": {
        "id": "S_dUQZmKECMG",
        "outputId": "4dc5ffa5-526b-4c60-f7ed-77c323901836",
        "colab": {
          "base_uri": "https://localhost:8080/"
        }
      },
      "source": [
        "# Check preprocessed data\n",
        "data[0:12]"
      ],
      "execution_count": null,
      "outputs": [
        {
          "output_type": "execute_result",
          "data": {
            "text/plain": [
              "[\"one universal creator god. the name is truth. creative being personified. no fear. no hatred. image of the undying, beyond birth, self existent. by guru's grace\",\n",
              " \"there is but one god. true is his name, creative his personality and immortal his form. he is without fear sans enmity, unborn and self illumined. by the guru's grace he is obtained.\",\n",
              " 'chant and meditate:',\n",
              " 'embrace his meditation.',\n",
              " 'true in the primal beginning. true throughout the ages.',\n",
              " 'true in the prime, true in the beginning of ages,',\n",
              " 'true here and now. O nanak, forever and ever true. ||1||',\n",
              " 'true he is even now and true he verily, shall be, O nanak!',\n",
              " 'by thinking, he cannot be reduced to thought, even by thinking hundreds of thousands of times.',\n",
              " 'by pondering on god, man cannot have a conception of him, even though he may ponder over lacs of times.',\n",
              " 'by remaining silent, inner silence is not obtained, even by remaining lovingly absorbed deep within.',\n",
              " \"even though one be silent and remains absorbed in lord's constant love he obtains not mind's silence.\"]"
            ]
          },
          "metadata": {
            "tags": []
          },
          "execution_count": 29
        }
      ]
    },
    {
      "cell_type": "code",
      "metadata": {
        "id": "Mzwi0DONJD3U"
      },
      "source": [
        "# Fit data in array\n",
        "data = np.array(data)"
      ],
      "execution_count": null,
      "outputs": []
    },
    {
      "cell_type": "code",
      "metadata": {
        "id": "C5ML57yZJD7x",
        "outputId": "c44375cb-dc6f-4d90-b45e-6d4cb9987d3f",
        "colab": {
          "base_uri": "https://localhost:8080/"
        }
      },
      "source": [
        "# Check data\n",
        "data[0:12]"
      ],
      "execution_count": null,
      "outputs": [
        {
          "output_type": "execute_result",
          "data": {
            "text/plain": [
              "array([\"one universal creator god. the name is truth. creative being personified. no fear. no hatred. image of the undying, beyond birth, self existent. by guru's grace\",\n",
              "       \"there is but one god. true is his name, creative his personality and immortal his form. he is without fear sans enmity, unborn and self illumined. by the guru's grace he is obtained.\",\n",
              "       'chant and meditate:', 'embrace his meditation.',\n",
              "       'true in the primal beginning. true throughout the ages.',\n",
              "       'true in the prime, true in the beginning of ages,',\n",
              "       'true here and now. O nanak, forever and ever true. ||1||',\n",
              "       'true he is even now and true he verily, shall be, O nanak!',\n",
              "       'by thinking, he cannot be reduced to thought, even by thinking hundreds of thousands of times.',\n",
              "       'by pondering on god, man cannot have a conception of him, even though he may ponder over lacs of times.',\n",
              "       'by remaining silent, inner silence is not obtained, even by remaining lovingly absorbed deep within.',\n",
              "       \"even though one be silent and remains absorbed in lord's constant love he obtains not mind's silence.\"],\n",
              "      dtype='<U266')"
            ]
          },
          "metadata": {
            "tags": []
          },
          "execution_count": 32
        }
      ]
    },
    {
      "cell_type": "code",
      "metadata": {
        "id": "qDbRBFtyJEBz"
      },
      "source": [
        "# Fit into dataframe\n",
        "X = pd.DataFrame(data, columns = [\"lines_translations_english\"])"
      ],
      "execution_count": null,
      "outputs": []
    },
    {
      "cell_type": "code",
      "metadata": {
        "id": "zu0dgSzdJEGn",
        "outputId": "9d2772ad-5490-43f4-ff04-d611e21fa324",
        "colab": {
          "base_uri": "https://localhost:8080/",
          "height": 204
        }
      },
      "source": [
        "X.head()"
      ],
      "execution_count": null,
      "outputs": [
        {
          "output_type": "execute_result",
          "data": {
            "text/html": [
              "<div>\n",
              "<style scoped>\n",
              "    .dataframe tbody tr th:only-of-type {\n",
              "        vertical-align: middle;\n",
              "    }\n",
              "\n",
              "    .dataframe tbody tr th {\n",
              "        vertical-align: top;\n",
              "    }\n",
              "\n",
              "    .dataframe thead th {\n",
              "        text-align: right;\n",
              "    }\n",
              "</style>\n",
              "<table border=\"1\" class=\"dataframe\">\n",
              "  <thead>\n",
              "    <tr style=\"text-align: right;\">\n",
              "      <th></th>\n",
              "      <th>lines_translations_english</th>\n",
              "    </tr>\n",
              "  </thead>\n",
              "  <tbody>\n",
              "    <tr>\n",
              "      <th>0</th>\n",
              "      <td>one universal creator god. the name is truth. ...</td>\n",
              "    </tr>\n",
              "    <tr>\n",
              "      <th>1</th>\n",
              "      <td>there is but one god. true is his name, creati...</td>\n",
              "    </tr>\n",
              "    <tr>\n",
              "      <th>2</th>\n",
              "      <td>chant and meditate:</td>\n",
              "    </tr>\n",
              "    <tr>\n",
              "      <th>3</th>\n",
              "      <td>embrace his meditation.</td>\n",
              "    </tr>\n",
              "    <tr>\n",
              "      <th>4</th>\n",
              "      <td>true in the primal beginning. true throughout ...</td>\n",
              "    </tr>\n",
              "  </tbody>\n",
              "</table>\n",
              "</div>"
            ],
            "text/plain": [
              "                          lines_translations_english\n",
              "0  one universal creator god. the name is truth. ...\n",
              "1  there is but one god. true is his name, creati...\n",
              "2                                chant and meditate:\n",
              "3                            embrace his meditation.\n",
              "4  true in the primal beginning. true throughout ..."
            ]
          },
          "metadata": {
            "tags": []
          },
          "execution_count": 51
        }
      ]
    },
    {
      "cell_type": "code",
      "metadata": {
        "id": "39zQQJH1JEMM",
        "outputId": "2ce28b41-afb0-4758-a292-839a0fb4d50f",
        "colab": {
          "base_uri": "https://localhost:8080/"
        }
      },
      "source": [
        "X.info()"
      ],
      "execution_count": null,
      "outputs": [
        {
          "output_type": "stream",
          "text": [
            "<class 'pandas.core.frame.DataFrame'>\n",
            "RangeIndex: 121020 entries, 0 to 121019\n",
            "Data columns (total 1 columns):\n",
            " #   Column                      Non-Null Count   Dtype \n",
            "---  ------                      --------------   ----- \n",
            " 0   lines_translations_english  121020 non-null  object\n",
            "dtypes: object(1)\n",
            "memory usage: 945.6+ KB\n"
          ],
          "name": "stdout"
        }
      ]
    },
    {
      "cell_type": "code",
      "metadata": {
        "id": "Ez6sGhgsJER7",
        "outputId": "ecb953b3-bc81-409f-9763-45ddc30c41a1",
        "colab": {
          "base_uri": "https://localhost:8080/"
        }
      },
      "source": [
        "X.lines_translations_english"
      ],
      "execution_count": null,
      "outputs": [
        {
          "output_type": "execute_result",
          "data": {
            "text/plain": [
              "0         one universal creator god. the name is truth. ...\n",
              "1         there is but one god. true is his name, creati...\n",
              "2                                       chant and meditate:\n",
              "3                                   embrace his meditation.\n",
              "4         true in the primal beginning. true throughout ...\n",
              "                                ...                        \n",
              "121015    these are the names of the sons of maygh raag....\n",
              "121016    so all together, they sing the six raagas and ...\n",
              "121017    so all together, they sing the six raagas and ...\n",
              "121018    and all the forty eight sons of the raagas. ||...\n",
              "121019    and all the forty eight sons of the raagas. ||...\n",
              "Name: lines_translations_english, Length: 121020, dtype: object"
            ]
          },
          "metadata": {
            "tags": []
          },
          "execution_count": 53
        }
      ]
    },
    {
      "cell_type": "code",
      "metadata": {
        "id": "gIb5Vh3AJEXp"
      },
      "source": [
        "#Obtain labels by transforming categorical labels to numerical labels. \n",
        "X = X.lines_translations_english\n",
        "Y = translator_data.lines_translations_english_writer\n",
        "le = LabelEncoder()\n",
        "Y = le.fit_transform(Y)\n",
        "Y = Y.reshape(-1,1) "
      ],
      "execution_count": null,
      "outputs": []
    },
    {
      "cell_type": "code",
      "metadata": {
        "id": "rga9yNaGJEcw",
        "outputId": "5215b614-9ccc-4102-8535-7726f8f9c593",
        "colab": {
          "base_uri": "https://localhost:8080/"
        }
      },
      "source": [
        "print(X.shape)\n",
        "print(Y.shape)"
      ],
      "execution_count": null,
      "outputs": [
        {
          "output_type": "stream",
          "text": [
            "(121020,)\n",
            "(121020, 1)\n"
          ],
          "name": "stdout"
        }
      ]
    },
    {
      "cell_type": "code",
      "metadata": {
        "id": "Y7_m7kWoJEh7",
        "outputId": "ebfab128-1283-409c-b273-fe66ef4bb060",
        "colab": {
          "base_uri": "https://localhost:8080/"
        }
      },
      "source": [
        "X[0:12]"
      ],
      "execution_count": null,
      "outputs": [
        {
          "output_type": "execute_result",
          "data": {
            "text/plain": [
              "0     one universal creator god. the name is truth. ...\n",
              "1     there is but one god. true is his name, creati...\n",
              "2                                   chant and meditate:\n",
              "3                               embrace his meditation.\n",
              "4     true in the primal beginning. true throughout ...\n",
              "5     true in the prime, true in the beginning of ages,\n",
              "6     true here and now. O nanak, forever and ever t...\n",
              "7     true he is even now and true he verily, shall ...\n",
              "8     by thinking, he cannot be reduced to thought, ...\n",
              "9     by pondering on god, man cannot have a concept...\n",
              "10    by remaining silent, inner silence is not obta...\n",
              "11    even though one be silent and remains absorbed...\n",
              "Name: lines_translations_english, dtype: object"
            ]
          },
          "metadata": {
            "tags": []
          },
          "execution_count": 66
        }
      ]
    },
    {
      "cell_type": "code",
      "metadata": {
        "id": "l6IPyogzJEb8"
      },
      "source": [
        "#Split data into train and test sets.\n",
        "X_train,X_test,Y_train,Y_test = train_test_split(X,Y,test_size=0.20, random_state=42)"
      ],
      "execution_count": null,
      "outputs": []
    },
    {
      "cell_type": "code",
      "metadata": {
        "id": "vsoMv7NpJEWs"
      },
      "source": [
        "#Convert sentences into tokens and pad the sentences to make all sentences of uniform length.\n",
        "from keras.preprocessing.text import Tokenizer\n",
        "maxlen = len(max(X_train, key=len))\n",
        "tokenizer = Tokenizer()\n",
        "tokenizer.fit_on_texts(X_train)\n",
        "X_train = tokenizer.texts_to_sequences(X_train)\n",
        "X_train_matrix = sequence.pad_sequences(X_train,maxlen=maxlen)"
      ],
      "execution_count": null,
      "outputs": []
    },
    {
      "cell_type": "code",
      "metadata": {
        "id": "TARZenD2JERD",
        "outputId": "1aee131b-d66f-4a21-faa4-d19dcc0256d8",
        "colab": {
          "base_uri": "https://localhost:8080/"
        }
      },
      "source": [
        "X_train_matrix.shape"
      ],
      "execution_count": null,
      "outputs": [
        {
          "output_type": "execute_result",
          "data": {
            "text/plain": [
              "(96816, 266)"
            ]
          },
          "metadata": {
            "tags": []
          },
          "execution_count": 69
        }
      ]
    },
    {
      "cell_type": "code",
      "metadata": {
        "id": "5mHsmcLRJELX",
        "outputId": "a1ce2887-bfbd-4fad-9897-8b0636592de9",
        "colab": {
          "base_uri": "https://localhost:8080/"
        }
      },
      "source": [
        "Y_train.shape"
      ],
      "execution_count": null,
      "outputs": [
        {
          "output_type": "execute_result",
          "data": {
            "text/plain": [
              "(96816, 1)"
            ]
          },
          "metadata": {
            "tags": []
          },
          "execution_count": 70
        }
      ]
    },
    {
      "cell_type": "code",
      "metadata": {
        "id": "FyMWSe7mJEFy",
        "outputId": "abcbb0e3-e645-4f1c-e5d6-6351b8b3fc52",
        "colab": {
          "base_uri": "https://localhost:8080/"
        }
      },
      "source": [
        "print(maxlen)"
      ],
      "execution_count": null,
      "outputs": [
        {
          "output_type": "stream",
          "text": [
            "266\n"
          ],
          "name": "stdout"
        }
      ]
    },
    {
      "cell_type": "code",
      "metadata": {
        "id": "Z4igFFLkJEBA",
        "outputId": "ccc8b336-b780-4407-b7af-a5ffc2ad852a",
        "colab": {
          "base_uri": "https://localhost:8080/"
        }
      },
      "source": [
        "# Assign vocab size as 1+number of tokens\n",
        "vocab_size = len(tokenizer.word_index) + 1\n",
        "vocab_size"
      ],
      "execution_count": null,
      "outputs": [
        {
          "output_type": "execute_result",
          "data": {
            "text/plain": [
              "14295"
            ]
          },
          "metadata": {
            "tags": []
          },
          "execution_count": 72
        }
      ]
    },
    {
      "cell_type": "code",
      "metadata": {
        "id": "8RcehZjyNJQM"
      },
      "source": [
        "#Create function to create embedding matrix using GloVe pretrained embeddings for 6 billion words with 100 dimensions.\n",
        "\n",
        "def create_embedding_matrix(filepath, word_index, embedding_dim):\n",
        "    vocab_size = len(word_index) + 1  # Adding again 1 because of reserved 0 index\n",
        "    embedding_matrix = np.zeros((vocab_size, embedding_dim))\n",
        "\n",
        "    with open(filepath) as f:\n",
        "        for line in f:\n",
        "            word, *vector = line.split()\n",
        "            if word in word_index:\n",
        "                idx = word_index[word] \n",
        "                embedding_matrix[idx] = np.array(\n",
        "                    vector, dtype=np.float32)[:embedding_dim]\n",
        "\n",
        "    return embedding_matrix\n"
      ],
      "execution_count": null,
      "outputs": []
    },
    {
      "cell_type": "code",
      "metadata": {
        "id": "1XnBUCDdNJSv"
      },
      "source": [
        "# Load embedding matrix\n",
        "embedding_dim = 100\n",
        "embedding_matrix = create_embedding_matrix(\n",
        "    '/content/gdrive/My Drive/AIT 726 Final Project SGGS Ji/glove.6B.100d.txt',\n",
        "     tokenizer.word_index, embedding_dim)"
      ],
      "execution_count": null,
      "outputs": []
    },
    {
      "cell_type": "code",
      "metadata": {
        "id": "A7j-oTXqNJZj",
        "outputId": "be7cc4b3-d977-4ae7-bf94-25cef0b60028",
        "colab": {
          "base_uri": "https://localhost:8080/"
        }
      },
      "source": [
        "embedding_matrix.shape"
      ],
      "execution_count": null,
      "outputs": [
        {
          "output_type": "execute_result",
          "data": {
            "text/plain": [
              "(14295, 100)"
            ]
          },
          "metadata": {
            "tags": []
          },
          "execution_count": 75
        }
      ]
    },
    {
      "cell_type": "code",
      "metadata": {
        "id": "QjxKs1KgNJox"
      },
      "source": [
        "# Create function to define bi-lstm rnn model\n",
        "def RNN():\n",
        "    inputs = Input(name='inputs',shape=[maxlen])\n",
        "    layer = Embedding(vocab_size,100,weights=[embedding_matrix],input_length=maxlen)(inputs)\n",
        "    layer = Bidirectional(LSTM(100))(layer)\n",
        "    layer = Activation('relu')(layer)\n",
        "    layer = Dropout(0.8)(layer)\n",
        "    layer = Dense(1)(layer)\n",
        "    layer = Activation('sigmoid')(layer)\n",
        "    model1 = Model(inputs=inputs,outputs=layer)\n",
        "    return model1"
      ],
      "execution_count": null,
      "outputs": []
    },
    {
      "cell_type": "code",
      "metadata": {
        "id": "37HYYga-NJXi",
        "outputId": "0afd6b57-3914-4a4d-82e0-12a9913dbcfd",
        "colab": {
          "base_uri": "https://localhost:8080/"
        }
      },
      "source": [
        "# Compile model\n",
        "model1 = RNN()\n",
        "model1.summary()\n",
        "model1.compile(loss='binary_crossentropy',optimizer=Adam(learning_rate = 0.01),metrics=['accuracy'])"
      ],
      "execution_count": null,
      "outputs": [
        {
          "output_type": "stream",
          "text": [
            "Model: \"functional_5\"\n",
            "_________________________________________________________________\n",
            "Layer (type)                 Output Shape              Param #   \n",
            "=================================================================\n",
            "inputs (InputLayer)          [(None, 266)]             0         \n",
            "_________________________________________________________________\n",
            "embedding_2 (Embedding)      (None, 266, 100)          1429500   \n",
            "_________________________________________________________________\n",
            "bidirectional_2 (Bidirection (None, 200)               160800    \n",
            "_________________________________________________________________\n",
            "activation_4 (Activation)    (None, 200)               0         \n",
            "_________________________________________________________________\n",
            "dropout_2 (Dropout)          (None, 200)               0         \n",
            "_________________________________________________________________\n",
            "dense_2 (Dense)              (None, 1)                 201       \n",
            "_________________________________________________________________\n",
            "activation_5 (Activation)    (None, 1)                 0         \n",
            "=================================================================\n",
            "Total params: 1,590,501\n",
            "Trainable params: 1,590,501\n",
            "Non-trainable params: 0\n",
            "_________________________________________________________________\n"
          ],
          "name": "stdout"
        }
      ]
    },
    {
      "cell_type": "code",
      "metadata": {
        "id": "Pj0O252ENJVS",
        "outputId": "289833f8-f0bf-42fa-b8d7-60c8f854770f",
        "colab": {
          "base_uri": "https://localhost:8080/"
        }
      },
      "source": [
        "# Fit model for training data\n",
        "history = model1.fit(X_train_matrix,Y_train,batch_size=128,epochs=20,validation_split=0.05,callbacks=[EarlyStopping(monitor='val_loss',min_delta=0.0001)])"
      ],
      "execution_count": null,
      "outputs": [
        {
          "output_type": "stream",
          "text": [
            "Epoch 1/20\n",
            "719/719 [==============================] - 35s 49ms/step - loss: 0.1482 - accuracy: 0.9364 - val_loss: 0.2148 - val_accuracy: 0.9143\n",
            "Epoch 2/20\n",
            "719/719 [==============================] - 35s 49ms/step - loss: 0.1367 - accuracy: 0.9404 - val_loss: 0.2322 - val_accuracy: 0.9058\n"
          ],
          "name": "stdout"
        }
      ]
    },
    {
      "cell_type": "code",
      "metadata": {
        "id": "j74aN3jrJD68",
        "outputId": "88001bc7-b29a-486f-c8db-4d3729834341",
        "colab": {
          "base_uri": "https://localhost:8080/"
        }
      },
      "source": [
        "# Preedictions for test data and compute accuracy\n",
        "test_sequences = tokenizer.texts_to_sequences(X_test)\n",
        "test_sequences_matrix = sequence.pad_sequences(test_sequences,maxlen=maxlen)\n",
        "\n",
        "accr = model1.evaluate(test_sequences_matrix,Y_test)\n",
        "\n",
        "print('Test set\\n  Loss: {:0.3f}\\n  Accuracy: {:0.3f}'.format(accr[0],accr[1] * 100))"
      ],
      "execution_count": null,
      "outputs": [
        {
          "output_type": "stream",
          "text": [
            "757/757 [==============================] - 8s 11ms/step - loss: 0.2151 - accuracy: 0.9175\n",
            "Test set\n",
            "  Loss: 0.215\n",
            "  Accuracy: 91.745\n"
          ],
          "name": "stdout"
        }
      ]
    },
    {
      "cell_type": "code",
      "metadata": {
        "id": "IQ6dEM4HJD15"
      },
      "source": [
        ""
      ],
      "execution_count": null,
      "outputs": []
    }
  ]
}